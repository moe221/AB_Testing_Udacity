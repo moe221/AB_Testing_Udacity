{
 "cells": [
  {
   "cell_type": "markdown",
   "id": "963339ae",
   "metadata": {
    "toc": true
   },
   "source": [
    "<h1>Table of Contents<span class=\"tocSkip\"></span></h1>\n",
    "<div class=\"toc\"><ul class=\"toc-item\"><li><span><a href=\"#Experiment-Overview\" data-toc-modified-id=\"Experiment-Overview-1\"><span class=\"toc-item-num\">1&nbsp;&nbsp;</span>Experiment Overview</a></span><ul class=\"toc-item\"><li><span><a href=\"#Changes-to-test\" data-toc-modified-id=\"Changes-to-test-1.1\"><span class=\"toc-item-num\">1.1&nbsp;&nbsp;</span>Changes to test</a></span></li><li><span><a href=\"#Hypothesis\" data-toc-modified-id=\"Hypothesis-1.2\"><span class=\"toc-item-num\">1.2&nbsp;&nbsp;</span>Hypothesis</a></span></li><li><span><a href=\"#Unit-of-diversion\" data-toc-modified-id=\"Unit-of-diversion-1.3\"><span class=\"toc-item-num\">1.3&nbsp;&nbsp;</span>Unit of diversion</a></span></li></ul></li><li><span><a href=\"#Choosing-a-Metric-to-Track\" data-toc-modified-id=\"Choosing-a-Metric-to-Track-2\"><span class=\"toc-item-num\">2&nbsp;&nbsp;</span>Choosing a Metric to Track</a></span><ul class=\"toc-item\"><li><span><a href=\"#Evaluation-Metrics\" data-toc-modified-id=\"Evaluation-Metrics-2.1\"><span class=\"toc-item-num\">2.1&nbsp;&nbsp;</span>Evaluation Metrics</a></span></li><li><span><a href=\"#Invariant-Metrics\" data-toc-modified-id=\"Invariant-Metrics-2.2\"><span class=\"toc-item-num\">2.2&nbsp;&nbsp;</span>Invariant Metrics</a></span></li></ul></li><li><span><a href=\"#Baseline-Values\" data-toc-modified-id=\"Baseline-Values-3\"><span class=\"toc-item-num\">3&nbsp;&nbsp;</span>Baseline Values</a></span><ul class=\"toc-item\"><li><span><a href=\"#Metric-Baseline-Values\" data-toc-modified-id=\"Metric-Baseline-Values-3.1\"><span class=\"toc-item-num\">3.1&nbsp;&nbsp;</span>Metric Baseline Values</a></span></li><li><span><a href=\"#Estimating-Standard-Deviation\" data-toc-modified-id=\"Estimating-Standard-Deviation-3.2\"><span class=\"toc-item-num\">3.2&nbsp;&nbsp;</span>Estimating Standard Deviation</a></span></li></ul></li><li><span><a href=\"#Choosing-Sample-Size\" data-toc-modified-id=\"Choosing-Sample-Size-4\"><span class=\"toc-item-num\">4&nbsp;&nbsp;</span>Choosing Sample Size</a></span><ul class=\"toc-item\"><li><span><a href=\"#Using-formula\" data-toc-modified-id=\"Using-formula-4.1\"><span class=\"toc-item-num\">4.1&nbsp;&nbsp;</span>Using formula</a></span></li></ul></li><li><span><a href=\"#Evaluating-Experiment-Results\" data-toc-modified-id=\"Evaluating-Experiment-Results-5\"><span class=\"toc-item-num\">5&nbsp;&nbsp;</span>Evaluating Experiment Results</a></span><ul class=\"toc-item\"><li><span><a href=\"#Checking-Invariant-Metrics\" data-toc-modified-id=\"Checking-Invariant-Metrics-5.1\"><span class=\"toc-item-num\">5.1&nbsp;&nbsp;</span>Checking Invariant Metrics</a></span></li></ul></li></ul></div>"
   ]
  },
  {
   "cell_type": "code",
   "execution_count": 113,
   "id": "efc51fdb",
   "metadata": {},
   "outputs": [],
   "source": [
    "# Imports\n",
    "import pandas as pd\n",
    "import numpy as np\n",
    "from scipy.stats import norm"
   ]
  },
  {
   "cell_type": "markdown",
   "id": "7a1d6266",
   "metadata": {},
   "source": [
    "# Experiment Overview"
   ]
  },
  {
   "cell_type": "markdown",
   "id": "1d3d2ab9",
   "metadata": {},
   "source": [
    "## Changes to test\n",
    "- Udacity courses currently have two options on the course overview page: \"start free trial\", and \"access course materials\"\n",
    "- Udacity tested a change where if the student clicked \"start free trial\", they were asked how much time they had available to devote to the course.\n",
    "- If the student indicated 5 or more hours per week, they would be taken through the checkout process as usual.\n",
    "- If they indicated fewer than 5 hours per week, a message would appear indicating that Udacity courses usually require a greater time commitment for successful completion, and suggesting that the student might like to access the course materials for free."
   ]
  },
  {
   "cell_type": "markdown",
   "id": "74d1e3e0",
   "metadata": {},
   "source": [
    "## Hypothesis\n",
    "- This change might set clearer expectations for students upfront.\n",
    "- Thus reducing the number of frustrated students who left the free trial.\n",
    "- without significantly reducing the number of students to continue past the free trial.\n",
    "\n",
    "- **Goal**: Improve overall student experience"
   ]
  },
  {
   "cell_type": "markdown",
   "id": "a93996a2",
   "metadata": {},
   "source": [
    "## Unit of diversion\n",
    "\n",
    "The unit of diversion is a cookie, although if the student enrolls in the free trial, they are tracked by user-id from that point forward. The same user-id cannot enroll in the free trial twice. For users that do not enroll, their user-id is not tracked in the experiment, even if they were signed in when they visited the course overview page."
   ]
  },
  {
   "cell_type": "markdown",
   "id": "de42b9e1",
   "metadata": {},
   "source": [
    "# Choosing a Metric to Track\n",
    "\n",
    "We will have to choose at least two types of metrics, an evaluation metric and an invariant metric, and a practical significance level.\n",
    "\n",
    "**Invariant Metrics**: Metrics that we do not expect to change between experiment and control groups (They should not be affected by the proposed change on Udacity's website)\n",
    "\n",
    "**Evaluation Metrics**: These are the metrics that we want to track and expect to see significant change in. \n",
    "\n",
    "**Practical Significance Level**: Also known as Dmin, is a significance threshold set by stakeholders which indicates if the observed change is practical from a business standpoint"
   ]
  },
  {
   "cell_type": "markdown",
   "id": "127920d8",
   "metadata": {},
   "source": [
    "## Evaluation Metrics\n",
    "\n",
    "Some possible metrics to choose from are:\n",
    "\n",
    "- **Gross conversion**: That is, number of user-ids to complete checkout and enroll in the free trial divided by number of unique cookies to click the \"Start free trial\" button. (dmin= 0.01)\n",
    "\n",
    "- **Retention**: That is, number of user-ids to remain enrolled past the 14-day boundary (and thus make at least one payment) divided by number of user-ids to complete checkout. (dmin=0.01) - We expect this metric to grow since students who completed checkout have seen the pop up message and decided to commit more than 5 hours a week for learning\n",
    "\n",
    "- **Net conversion**: That is, number of user-ids to remain enrolled past the 14-day boundary (and thus make at least one payment) divided by the number of unique cookies to click the \"Start free trial\" button. (dmin= 0.0075) - This metrics should decrease, since we are assuming that the new pop up message will deter some students from enrolling in the free trial"
   ]
  },
  {
   "cell_type": "markdown",
   "id": "12bcf42f",
   "metadata": {},
   "source": [
    "## Invariant Metrics\n",
    "\n",
    "- **Number of cookies**: That is, number of unique cookies to view the course overview page. (dmin=3000)\n",
    "\n",
    "- **Number of clicks**: That is, number of unique cookies to click the \"Start free trial\" button (which happens before the free trial screener is trigger). (dmin=240)\n",
    "\n",
    "- **Click-through-probability**: That is, number of unique cookies to click the \"Start free trial\" button divided by number of unique cookies to view the course overview page. (dmin=0.01)"
   ]
  },
  {
   "cell_type": "markdown",
   "id": "b8a69800",
   "metadata": {},
   "source": [
    "# Baseline Values\n"
   ]
  },
  {
   "cell_type": "markdown",
   "id": "75d27dfd",
   "metadata": {},
   "source": [
    "## Metric Baseline Values\n",
    "\n",
    "According to Udacity, these are the baseline values for the following metrics:\n",
    "\n",
    "- Unique cookies to view course overview page per day:\t40000\n",
    "- Unique cookies to click \"Start free trial\" per day:\t3200\n",
    "- Enrollments per day:\t660\n",
    "- Click-through-probability on \"Start free trial\":\t0.08\n",
    "- Probability of enrolling, given click:\t0.20625\n",
    "- Probability of payment, given enroll:\t0.53\n",
    "- Probability of payment, given click\t0.1093125"
   ]
  },
  {
   "cell_type": "code",
   "execution_count": 75,
   "id": "33b2b71e",
   "metadata": {},
   "outputs": [],
   "source": [
    "# Create a dictionary to save baseline metrics\n",
    "baseline_dict = {\"cookies_unique\": 40_000,\n",
    "                 \"clicks\": 3200,\n",
    "                 \"enrollments_daily\": 660,\n",
    "                 \"CTP\": 0.08,\n",
    "                 \"GConversion\": 0.20625,\n",
    "                 \"retention\": 0.53,\n",
    "                 \"NConversion\": 0.109313}"
   ]
  },
  {
   "cell_type": "markdown",
   "id": "e8770255",
   "metadata": {},
   "source": [
    "## Estimating Standard Deviation\n",
    "\n",
    "The first thing we can do is to calculate some basic statistics to get an idea of what our samples look like."
   ]
  },
  {
   "cell_type": "code",
   "execution_count": 76,
   "id": "7fb4d48a",
   "metadata": {},
   "outputs": [
    {
     "data": {
      "text/plain": [
       "{'cookies_unique': 5000,\n",
       " 'clicks': 400.0,\n",
       " 'enrollments_daily': 82.5,\n",
       " 'CTP': 0.08,\n",
       " 'GConversion': 0.20625,\n",
       " 'retention': 0.53,\n",
       " 'NConversion': 0.109313}"
      ]
     },
     "execution_count": 76,
     "metadata": {},
     "output_type": "execute_result"
    }
   ],
   "source": [
    "# scale down baseline values to appropriate sample size\n",
    "# only count estimates need to be scaled\n",
    "sample_size = 5000 # defined sample size\n",
    "\n",
    "baseline_scaled = baseline_dict.copy()\n",
    "baseline_scaled[\"cookies_unique\"] = sample_size \n",
    "baseline_scaled[\"clicks\"] = baseline_dict[\"clicks\"] * (sample_size/40_000)\n",
    "baseline_scaled[\"enrollments_daily\"] = baseline_dict[\"enrollments_daily\"] * (sample_size/40_000)\n",
    "\n",
    "baseline_scaled"
   ]
  },
  {
   "attachments": {
    "image.png": {
     "image/png": "[encoded data removed]"
    }
   },
   "cell_type": "markdown",
   "id": "10fd530e",
   "metadata": {},
   "source": [
    "We can assume that all metrics that represent probability follow the binomial distribution and so the standard deviation DS can be estimated analytically with the following formula:\n",
    "\n",
    "![image.png](attachment:image.png)\n",
    "\n",
    "Note that estimating SD analytically only works when the **unit of diversion** and **unit of analysis** are the same. When this is not the case, it it's better to empirically calculate the SD."
   ]
  },
  {
   "cell_type": "code",
   "execution_count": 77,
   "id": "c90555d9",
   "metadata": {},
   "outputs": [],
   "source": []
  },
  {
   "cell_type": "code",
   "execution_count": 78,
   "id": "a269b44f",
   "metadata": {},
   "outputs": [],
   "source": [
    "# Estimating SD for the 3 chosen evealuation metrics\n",
    "\n",
    "def sd_analytical(n: int, p: float) -> float:\n",
    "    return round(np.sqrt((p*(1-p))/(n)), 4)\n",
    "\n",
    "# Gross Conversion rate\n",
    "GConversion = {}\n",
    "GConversion[\"n\"] = baseline_scaled[\"clicks\"]\n",
    "GConversion[\"p\"] = baseline_dict[\"GConversion\"]\n",
    "GConversion[\"d_min\"] = 0.01\n",
    "\n",
    "GConversion[\"sd\"] = sd_analytical(GConversion[\"n\"], GConversion[\"p\"])\n",
    "\n",
    "# Retention rate\n",
    "retention = {}\n",
    "retention[\"n\"] = baseline_scaled[\"enrollments_daily\"]\n",
    "retention[\"p\"] = baseline_dict[\"retention\"]\n",
    "retention[\"d_min\"] = 0.01\n",
    "\n",
    "retention[\"sd\"] = sd_analytical(retention[\"n\"], retention[\"p\"])\n",
    "\n",
    "# Net Conversion rate\n",
    "NConversion = {}\n",
    "NConversion[\"n\"] = baseline_scaled[\"clicks\"]\n",
    "NConversion[\"p\"] = baseline_dict[\"NConversion\"]\n",
    "NConversion[\"d_min\"] = 0.0075\n",
    "\n",
    "NConversion[\"sd\"] = sd_analytical(NConversion[\"n\"], NConversion[\"p\"])"
   ]
  },
  {
   "cell_type": "code",
   "execution_count": 79,
   "id": "7bcc2265",
   "metadata": {},
   "outputs": [
    {
     "data": {
      "text/plain": [
       "({'n': 400.0, 'p': 0.20625, 'd_min': 0.01, 'sd': 0.0202},\n",
       " {'n': 82.5, 'p': 0.53, 'd_min': 0.01, 'sd': 0.0549},\n",
       " {'n': 400.0, 'p': 0.109313, 'd_min': 0.0075, 'sd': 0.0156})"
      ]
     },
     "execution_count": 79,
     "metadata": {},
     "output_type": "execute_result"
    }
   ],
   "source": [
    "GConversion, retention, NConversion"
   ]
  },
  {
   "cell_type": "markdown",
   "id": "41e048c3",
   "metadata": {},
   "source": [
    "# Choosing Sample Size"
   ]
  },
  {
   "attachments": {
    "image.png": {
     "image/png": "[encoded data removed]"
    }
   },
   "cell_type": "markdown",
   "id": "82376308",
   "metadata": {},
   "source": [
    "To calculate the correct sample size for our experiment and control groups, we have two options:\n",
    "- Use [this](https://www.evanmiller.org/ab-testing/sample-size.html)\n",
    " online calculator\n",
    "\n",
    "- Or calculate with the following formula: \n",
    "\n",
    "![image.png](attachment:image.png)"
   ]
  },
  {
   "cell_type": "markdown",
   "id": "d05d9441",
   "metadata": {},
   "source": [
    "## Using formula"
   ]
  },
  {
   "cell_type": "code",
   "execution_count": 91,
   "id": "bd22d4d3",
   "metadata": {},
   "outputs": [],
   "source": [
    "def get_sd1(p: float) -> float:\n",
    "    return np.sqrt(p*(1-p) + p*(1-p))\n",
    "\n",
    "def get_sd2(p: float, d: float) -> float:\n",
    "    return np.sqrt(p*(1-p) + (p+d) * (1-(p+d)))\n",
    "\n",
    "def get_z_score(alpha_value: float):\n",
    "    return norm.ppf(alpha_value)\n",
    "\n",
    "def get_sample_size(alpha: float, beta:float, d:float, p:float) -> int:\n",
    "    \n",
    "    z_alpha = get_z_score(1-alpha/2)\n",
    "    z_beta = get_z_score(1-beta)\n",
    "    sd1 = get_sd1(p)\n",
    "    sd2 = get_sd2(p, d)\n",
    "    \n",
    "    return round((z_alpha*sd1 + z_beta*sd2)**2/d**2)"
   ]
  },
  {
   "cell_type": "code",
   "execution_count": 99,
   "id": "b280f9ca",
   "metadata": {},
   "outputs": [],
   "source": [
    "# sample size per evaluation metric\n",
    "\n",
    "# Gross Conversion\n",
    "GConversion[\"sample_size_clicks\"] = get_sample_size(0.05, 0.2, GConversion[\"d_min\"], GConversion[\"p\"])\n",
    "\n",
    "# convert to number of cookies who visted the site then multiply by 2 (we have two groups)\n",
    "# according to baseline metrics, 8% of cookies resulted in clicks\n",
    "GConversion[\"sample_size\"] = (GConversion[\"sample_size_clicks\"]/0.08)*2\n",
    "\n",
    "# Retention\n",
    "retention[\"sample_size_user_id\"] = get_sample_size(0.05, 0.2, retention[\"d_min\"], retention[\"p\"])\n",
    "\n",
    "# convert to number of users enroled to number of cookies who clicked then to cookies who visted the site\n",
    "# then multiply by 2 (we have two groups)\n",
    "\n",
    "# Precentage of users who enroll given a click = 20.6%\n",
    "retention[\"sample_size\"] = ((retention[\"sample_size_user_id\"]/0.20625)/0.08)*2\n",
    "\n",
    "# Net Conversions\n",
    "NConversion[\"sample_size_clicks\"] = get_sample_size(0.05, 0.2, NConversion[\"d_min\"], NConversion[\"p\"])\n",
    "\n",
    "# convert number of clicks to cookies who visted the site\n",
    "# then multiply by 2 (we have two groups)\n",
    "\n",
    "NConversion[\"sample_size\"] = (NConversion[\"sample_size_clicks\"]/0.08)*2"
   ]
  },
  {
   "cell_type": "code",
   "execution_count": 100,
   "id": "f87fc651",
   "metadata": {},
   "outputs": [
    {
     "data": {
      "text/plain": [
       "25835.0"
      ]
     },
     "execution_count": 100,
     "metadata": {},
     "output_type": "execute_result"
    }
   ],
   "source": [
    "GConversion[\"sample_size_clicks\"]"
   ]
  },
  {
   "cell_type": "code",
   "execution_count": 111,
   "id": "6fff5208",
   "metadata": {},
   "outputs": [],
   "source": [
    "df_sample_size = pd.DataFrame(data={\"Metric\": [\"GConversion\", \"Retention\", \"NConversion\"], \n",
    "                   \"SampleSize\": [GConversion[\"sample_size\"], retention[\"sample_size\"], NConversion[\"sample_size\"]]})\n",
    "\n",
    "# calculate experiment length in days\n",
    "average_daily_traffic = 40_000\n",
    "divert_fraction = 0.8\n",
    "df_sample_size[\"experiment_length_in_days\"] = round(df_sample_size[\"SampleSize\"] / (average_daily_traffic * divert_fraction), 2)"
   ]
  },
  {
   "cell_type": "code",
   "execution_count": 112,
   "id": "42f768ca",
   "metadata": {},
   "outputs": [
    {
     "data": {
      "text/html": [
       "<div>\n",
       "<style scoped>\n",
       "    .dataframe tbody tr th:only-of-type {\n",
       "        vertical-align: middle;\n",
       "    }\n",
       "\n",
       "    .dataframe tbody tr th {\n",
       "        vertical-align: top;\n",
       "    }\n",
       "\n",
       "    .dataframe thead th {\n",
       "        text-align: right;\n",
       "    }\n",
       "</style>\n",
       "<table border=\"1\" class=\"dataframe\">\n",
       "  <thead>\n",
       "    <tr style=\"text-align: right;\">\n",
       "      <th></th>\n",
       "      <th>Metric</th>\n",
       "      <th>SampleSize</th>\n",
       "      <th>experiment_length_in_days</th>\n",
       "    </tr>\n",
       "  </thead>\n",
       "  <tbody>\n",
       "    <tr>\n",
       "      <th>0</th>\n",
       "      <td>GConversion</td>\n",
       "      <td>6.458750e+05</td>\n",
       "      <td>20.18</td>\n",
       "    </tr>\n",
       "    <tr>\n",
       "      <th>1</th>\n",
       "      <td>Retention</td>\n",
       "      <td>4.737818e+06</td>\n",
       "      <td>148.06</td>\n",
       "    </tr>\n",
       "    <tr>\n",
       "      <th>2</th>\n",
       "      <td>NConversion</td>\n",
       "      <td>6.853250e+05</td>\n",
       "      <td>21.42</td>\n",
       "    </tr>\n",
       "  </tbody>\n",
       "</table>\n",
       "</div>"
      ],
      "text/plain": [
       "        Metric    SampleSize  experiment_length_in_days\n",
       "0  GConversion  6.458750e+05                      20.18\n",
       "1    Retention  4.737818e+06                     148.06\n",
       "2  NConversion  6.853250e+05                      21.42"
      ]
     },
     "execution_count": 112,
     "metadata": {},
     "output_type": "execute_result"
    }
   ],
   "source": [
    "df_sample_size"
   ]
  },
  {
   "cell_type": "markdown",
   "id": "02c1d05c",
   "metadata": {},
   "source": [
    "From the results we can see that with a diversion fraction of 80%, in order to use Retention as an evaluation metric, the experiment needs to be run for at least 148 days, which is a very long time. Therefore this metric will not be considered any further.\n",
    "The remaining two metrics are more realistic in terms of experiment duration and are a good option."
   ]
  },
  {
   "cell_type": "markdown",
   "id": "b596e7c2",
   "metadata": {},
   "source": [
    "# Evaluating Experiment Results"
   ]
  },
  {
   "cell_type": "markdown",
   "id": "2d27fbef",
   "metadata": {},
   "source": [
    "Udacity provided two datasets containing both experiment and control group results"
   ]
  },
  {
   "cell_type": "code",
   "execution_count": 114,
   "id": "169dfdf4",
   "metadata": {},
   "outputs": [],
   "source": [
    "df_control = pd.read_excel(\"../raw_data/Final Project Results.xlsx\", sheet_name=\"Control\")\n",
    "df_experiment = pd.read_excel(\"../raw_data/Final Project Results.xlsx\", sheet_name=\"Experiment\")"
   ]
  },
  {
   "cell_type": "code",
   "execution_count": 115,
   "id": "78b00a32",
   "metadata": {},
   "outputs": [
    {
     "data": {
      "text/html": [
       "<div>\n",
       "<style scoped>\n",
       "    .dataframe tbody tr th:only-of-type {\n",
       "        vertical-align: middle;\n",
       "    }\n",
       "\n",
       "    .dataframe tbody tr th {\n",
       "        vertical-align: top;\n",
       "    }\n",
       "\n",
       "    .dataframe thead th {\n",
       "        text-align: right;\n",
       "    }\n",
       "</style>\n",
       "<table border=\"1\" class=\"dataframe\">\n",
       "  <thead>\n",
       "    <tr style=\"text-align: right;\">\n",
       "      <th></th>\n",
       "      <th>Date</th>\n",
       "      <th>Pageviews</th>\n",
       "      <th>Clicks</th>\n",
       "      <th>Enrollments</th>\n",
       "      <th>Payments</th>\n",
       "    </tr>\n",
       "  </thead>\n",
       "  <tbody>\n",
       "    <tr>\n",
       "      <th>0</th>\n",
       "      <td>Sat, Oct 11</td>\n",
       "      <td>7723.0</td>\n",
       "      <td>687.0</td>\n",
       "      <td>134.0</td>\n",
       "      <td>70.0</td>\n",
       "    </tr>\n",
       "    <tr>\n",
       "      <th>1</th>\n",
       "      <td>Sun, Oct 12</td>\n",
       "      <td>9102.0</td>\n",
       "      <td>779.0</td>\n",
       "      <td>147.0</td>\n",
       "      <td>70.0</td>\n",
       "    </tr>\n",
       "    <tr>\n",
       "      <th>2</th>\n",
       "      <td>Mon, Oct 13</td>\n",
       "      <td>10511.0</td>\n",
       "      <td>909.0</td>\n",
       "      <td>167.0</td>\n",
       "      <td>95.0</td>\n",
       "    </tr>\n",
       "    <tr>\n",
       "      <th>3</th>\n",
       "      <td>Tue, Oct 14</td>\n",
       "      <td>9871.0</td>\n",
       "      <td>836.0</td>\n",
       "      <td>156.0</td>\n",
       "      <td>105.0</td>\n",
       "    </tr>\n",
       "    <tr>\n",
       "      <th>4</th>\n",
       "      <td>Wed, Oct 15</td>\n",
       "      <td>10014.0</td>\n",
       "      <td>837.0</td>\n",
       "      <td>163.0</td>\n",
       "      <td>64.0</td>\n",
       "    </tr>\n",
       "  </tbody>\n",
       "</table>\n",
       "</div>"
      ],
      "text/plain": [
       "          Date  Pageviews  Clicks  Enrollments  Payments\n",
       "0  Sat, Oct 11     7723.0   687.0        134.0      70.0\n",
       "1  Sun, Oct 12     9102.0   779.0        147.0      70.0\n",
       "2  Mon, Oct 13    10511.0   909.0        167.0      95.0\n",
       "3  Tue, Oct 14     9871.0   836.0        156.0     105.0\n",
       "4  Wed, Oct 15    10014.0   837.0        163.0      64.0"
      ]
     },
     "execution_count": 115,
     "metadata": {},
     "output_type": "execute_result"
    }
   ],
   "source": [
    "df_control.head()"
   ]
  },
  {
   "cell_type": "code",
   "execution_count": 116,
   "id": "135f822a",
   "metadata": {},
   "outputs": [
    {
     "name": "stdout",
     "output_type": "stream",
     "text": [
      "<class 'pandas.core.frame.DataFrame'>\n",
      "RangeIndex: 37 entries, 0 to 36\n",
      "Data columns (total 5 columns):\n",
      " #   Column       Non-Null Count  Dtype  \n",
      "---  ------       --------------  -----  \n",
      " 0   Date         37 non-null     object \n",
      " 1   Pageviews    37 non-null     float64\n",
      " 2   Clicks       37 non-null     float64\n",
      " 3   Enrollments  23 non-null     float64\n",
      " 4   Payments     23 non-null     float64\n",
      "dtypes: float64(4), object(1)\n",
      "memory usage: 1.6+ KB\n"
     ]
    }
   ],
   "source": [
    "df_control.info()"
   ]
  },
  {
   "cell_type": "code",
   "execution_count": 117,
   "id": "d6eca16e",
   "metadata": {},
   "outputs": [
    {
     "data": {
      "text/html": [
       "<div>\n",
       "<style scoped>\n",
       "    .dataframe tbody tr th:only-of-type {\n",
       "        vertical-align: middle;\n",
       "    }\n",
       "\n",
       "    .dataframe tbody tr th {\n",
       "        vertical-align: top;\n",
       "    }\n",
       "\n",
       "    .dataframe thead th {\n",
       "        text-align: right;\n",
       "    }\n",
       "</style>\n",
       "<table border=\"1\" class=\"dataframe\">\n",
       "  <thead>\n",
       "    <tr style=\"text-align: right;\">\n",
       "      <th></th>\n",
       "      <th>Date</th>\n",
       "      <th>Pageviews</th>\n",
       "      <th>Clicks</th>\n",
       "      <th>Enrollments</th>\n",
       "      <th>Payments</th>\n",
       "    </tr>\n",
       "  </thead>\n",
       "  <tbody>\n",
       "    <tr>\n",
       "      <th>0</th>\n",
       "      <td>Sat, Oct 11</td>\n",
       "      <td>7716.0</td>\n",
       "      <td>686.0</td>\n",
       "      <td>105.0</td>\n",
       "      <td>34.0</td>\n",
       "    </tr>\n",
       "    <tr>\n",
       "      <th>1</th>\n",
       "      <td>Sun, Oct 12</td>\n",
       "      <td>9288.0</td>\n",
       "      <td>785.0</td>\n",
       "      <td>116.0</td>\n",
       "      <td>91.0</td>\n",
       "    </tr>\n",
       "    <tr>\n",
       "      <th>2</th>\n",
       "      <td>Mon, Oct 13</td>\n",
       "      <td>10480.0</td>\n",
       "      <td>884.0</td>\n",
       "      <td>145.0</td>\n",
       "      <td>79.0</td>\n",
       "    </tr>\n",
       "    <tr>\n",
       "      <th>3</th>\n",
       "      <td>Tue, Oct 14</td>\n",
       "      <td>9867.0</td>\n",
       "      <td>827.0</td>\n",
       "      <td>138.0</td>\n",
       "      <td>92.0</td>\n",
       "    </tr>\n",
       "    <tr>\n",
       "      <th>4</th>\n",
       "      <td>Wed, Oct 15</td>\n",
       "      <td>9793.0</td>\n",
       "      <td>832.0</td>\n",
       "      <td>140.0</td>\n",
       "      <td>94.0</td>\n",
       "    </tr>\n",
       "  </tbody>\n",
       "</table>\n",
       "</div>"
      ],
      "text/plain": [
       "          Date  Pageviews  Clicks  Enrollments  Payments\n",
       "0  Sat, Oct 11     7716.0   686.0        105.0      34.0\n",
       "1  Sun, Oct 12     9288.0   785.0        116.0      91.0\n",
       "2  Mon, Oct 13    10480.0   884.0        145.0      79.0\n",
       "3  Tue, Oct 14     9867.0   827.0        138.0      92.0\n",
       "4  Wed, Oct 15     9793.0   832.0        140.0      94.0"
      ]
     },
     "execution_count": 117,
     "metadata": {},
     "output_type": "execute_result"
    }
   ],
   "source": [
    "df_experiment.head()"
   ]
  },
  {
   "cell_type": "code",
   "execution_count": 118,
   "id": "729fde4e",
   "metadata": {},
   "outputs": [
    {
     "name": "stdout",
     "output_type": "stream",
     "text": [
      "<class 'pandas.core.frame.DataFrame'>\n",
      "RangeIndex: 37 entries, 0 to 36\n",
      "Data columns (total 5 columns):\n",
      " #   Column       Non-Null Count  Dtype  \n",
      "---  ------       --------------  -----  \n",
      " 0   Date         37 non-null     object \n",
      " 1   Pageviews    37 non-null     float64\n",
      " 2   Clicks       37 non-null     float64\n",
      " 3   Enrollments  23 non-null     float64\n",
      " 4   Payments     23 non-null     float64\n",
      "dtypes: float64(4), object(1)\n",
      "memory usage: 1.6+ KB\n"
     ]
    }
   ],
   "source": [
    "df_experiment.info()"
   ]
  },
  {
   "cell_type": "markdown",
   "id": "32d44cf2",
   "metadata": {},
   "source": [
    "## Checking Invariant Metrics\n",
    "\n",
    "We defined 3 invariant metrics to use as sanity checks. \n",
    "\n",
    "- Number of cookies\n",
    "\n",
    "- Number of clicks\n",
    "\n",
    "- Click-through-probability\n",
    "\n",
    "We expect these 3 metrics to be approximately the same in both groups. If there not, then we might have set our experiment in way that could introduce bias."
   ]
  },
  {
   "cell_type": "markdown",
   "id": "09c9d058",
   "metadata": {},
   "source": [
    "**Number of cookies**"
   ]
  },
  {
   "cell_type": "code",
   "execution_count": 120,
   "id": "95758b83",
   "metadata": {},
   "outputs": [
    {
     "name": "stdout",
     "output_type": "stream",
     "text": [
      "Number of cookies in control group 345543.0\n",
      "Number of cookies in experiment group 344660.0\n"
     ]
    }
   ],
   "source": [
    "print(\"Number of cookies in control group\", df_control[\"Pageviews\"].sum())\n",
    "print(\"Number of cookies in experiment group\", df_experiment[\"Pageviews\"].sum())"
   ]
  },
  {
   "attachments": {
    "image.png": {
     "image/png": "[encoded data removed]"
    }
   },
   "cell_type": "markdown",
   "id": "62fa849f",
   "metadata": {},
   "source": [
    "Although the number are very close, we should still check if there's a statistically significant difference between pageviews. To do this we need to test whether the proportion of pageviews in the control group isn't significantly different than 0.5 (since we expect that the control groups contains 50% of the pageviews in the control and experiment group combined)\n",
    "\n",
    "In order to do that, we need to fist calculate the 95% confidence interval.\n",
    "\n",
    "![image.png](attachment:image.png)\n",
    "\n",
    "Where p is the actual proportion of pageviews in the control group, an ME is the margin of error."
   ]
  },
  {
   "cell_type": "code",
   "execution_count": 127,
   "id": "db7ef8fd",
   "metadata": {},
   "outputs": [
    {
     "name": "stdout",
     "output_type": "stream",
     "text": [
      "Confidence intervall: 0.49882402160927597 , 0.501175978390724\n"
     ]
    }
   ],
   "source": [
    "alpha = 0.05\n",
    "p = 0.5\n",
    "total_pageviews = df_control[\"Pageviews\"].sum() + df_experiment[\"Pageviews\"].sum()\n",
    "p_control = df_control[\"Pageviews\"].sum() / total_pageviews\n",
    "z_score = get_z_score(1-alpha/2)\n",
    "sd = sd_analytical(total_pageviews, p_control)\n",
    "me = z_score*sd\n",
    "\n",
    "print(f\"Confidence intervall: {p-me} , {p+me}\")"
   ]
  },
  {
   "cell_type": "markdown",
   "id": "c554402f",
   "metadata": {},
   "source": [
    "Our p_control = 0.5004 is within the confidence interval so there is no statistically siginficant difference in pageviews between the two groups."
   ]
  },
  {
   "cell_type": "markdown",
   "id": "f8b521ee",
   "metadata": {},
   "source": [
    "**Number of clicks**\n"
   ]
  },
  {
   "cell_type": "code",
   "execution_count": 128,
   "id": "eb66b863",
   "metadata": {},
   "outputs": [
    {
     "name": "stdout",
     "output_type": "stream",
     "text": [
      "Confidence intervall: 0.49882402160927597 , 0.501175978390724\n"
     ]
    }
   ],
   "source": [
    "alpha = 0.05\n",
    "p = 0.5\n",
    "total_clicks = df_control[\"Clicks\"].sum() + df_experiment[\"Clicks\"].sum()\n",
    "p_control = df_control[\"Clicks\"].sum() / total_clicks\n",
    "z_score = get_z_score(1-alpha/2)\n",
    "sd = sd_analytical(total_pageviews, p_control)\n",
    "me = z_score*sd\n",
    "\n",
    "print(f\"Confidence intervall: {p-me} , {p+me}\")"
   ]
  },
  {
   "cell_type": "markdown",
   "id": "e8d01a12",
   "metadata": {},
   "source": [
    "Our p_control = 0.5004 is within the confidence interval so there is no statistically siginficant difference in clicks between the two groups."
   ]
  },
  {
   "cell_type": "markdown",
   "id": "11e8c8e9",
   "metadata": {},
   "source": [
    "**Click-through-probability**\n"
   ]
  },
  {
   "attachments": {
    "image.png": {
     "image/png": "[encoded data removed]"
    }
   },
   "cell_type": "markdown",
   "id": "743caa10",
   "metadata": {},
   "source": [
    "CTP is defined as the ratio between unique clicks and unique pageviews. For this reason the Standard deviation is calculated differently than before:\n",
    "\n",
    "\n",
    "![image.png](attachment:image.png)"
   ]
  },
  {
   "cell_type": "code",
   "execution_count": 145,
   "id": "1a53fee0",
   "metadata": {},
   "outputs": [
    {
     "name": "stdout",
     "output_type": "stream",
     "text": [
      "Confidence intervall: -0.001295655390242568 , 0.001295655390242568\n"
     ]
    }
   ],
   "source": [
    "def get_sd_pooled(n_cont, n_exp, x_cont, x_exp):\n",
    "    \n",
    "    p_pool = (x_cont + x_exp)/(n_cont + n_exp)\n",
    "    \n",
    "    return np.sqrt(p_pool*((1-p_pool)*((1/n_cont)+(1/n_exp))))\n",
    "\n",
    "n_cont = df_control[\"Pageviews\"].sum()\n",
    "n_exp = df_experiment[\"Pageviews\"].sum()\n",
    "x_cont = df_control[\"Clicks\"].sum()\n",
    "x_exp = df_experiment[\"Clicks\"].sum()\n",
    "\n",
    "sd_pooled = get_sd_pooled(n_cont, n_exp, x_cont, x_exp)\n",
    "\n",
    "ctp_cont = x_cont/n_cont\n",
    "ctp_exp = x_exp/n_exp\n",
    "\n",
    "d = round(ctp_exp - ctp_cont, 4)\n",
    "\n",
    "print(f\"Confidence intervall: {0-z_score*sd_pooled} , {0+z_score*sd_pooled}\")"
   ]
  },
  {
   "cell_type": "markdown",
   "id": "0b4acebc",
   "metadata": {},
   "source": [
    "Our d = 0.0001 is within the confidence interval so there is no statistically siginficant difference in CTP between the two groups."
   ]
  },
  {
   "cell_type": "code",
   "execution_count": null,
   "id": "58884eca",
   "metadata": {},
   "outputs": [],
   "source": []
  }
 ],
 "metadata": {
  "kernelspec": {
   "display_name": "Python 3 (ipykernel)",
   "language": "python",
   "name": "python3"
  },
  "language_info": {
   "codemirror_mode": {
    "name": "ipython",
    "version": 3
   },
   "file_extension": ".py",
   "mimetype": "text/x-python",
   "name": "python",
   "nbconvert_exporter": "python",
   "pygments_lexer": "ipython3",
   "version": "3.8.12"
  },
  "toc": {
   "base_numbering": 1,
   "nav_menu": {},
   "number_sections": true,
   "sideBar": true,
   "skip_h1_title": false,
   "title_cell": "Table of Contents",
   "title_sidebar": "Contents",
   "toc_cell": true,
   "toc_position": {},
   "toc_section_display": true,
   "toc_window_display": true
  }
 },
 "nbformat": 4,
 "nbformat_minor": 5
}
